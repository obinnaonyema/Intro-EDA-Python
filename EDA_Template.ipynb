{
 "cells": [
  {
   "cell_type": "markdown",
   "id": "c3bd565c",
   "metadata": {},
   "source": [
    "# Project Title (Replace this with your project title)\n",
    "\n",
    "* Write out the problem statement\n",
    "* Give a short description of the project\n"
   ]
  },
  {
   "cell_type": "code",
   "execution_count": null,
   "id": "d8aa5eda",
   "metadata": {},
   "outputs": [],
   "source": [
    "#import python libraries for data manipulation and visualization\n",
    "\n"
   ]
  },
  {
   "cell_type": "markdown",
   "id": "d6f64705",
   "metadata": {},
   "source": [
    "# Data Inspection\n",
    "\n",
    "* Load the data set\n",
    "* Within a markdown cell, give a description of the dataset:\n",
    "    * what is the source of the data?\n",
    "    * how many rows and columns?\n",
    "    * does it have missing values?\n",
    "    * any other significant details"
   ]
  },
  {
   "cell_type": "code",
   "execution_count": null,
   "id": "88acc8af",
   "metadata": {},
   "outputs": [],
   "source": [
    "# load the data\n"
   ]
  },
  {
   "cell_type": "code",
   "execution_count": null,
   "id": "07b34f9e",
   "metadata": {},
   "outputs": [],
   "source": [
    "#inspect the data\n"
   ]
  },
  {
   "cell_type": "markdown",
   "id": "a25d8faf",
   "metadata": {},
   "source": [
    "# Data Cleansing\n",
    "\n",
    "In this markdown cell, mention the data cleaning steps you will take. Some of your steps may include\n",
    "* Handling missing values (NaN)\n",
    "* Replacing text\n",
    "* Removing or deleting unnecessary records"
   ]
  },
  {
   "cell_type": "code",
   "execution_count": null,
   "id": "4e455dd8",
   "metadata": {},
   "outputs": [],
   "source": [
    "#data cleasning cells"
   ]
  },
  {
   "cell_type": "code",
   "execution_count": null,
   "id": "357a39ef",
   "metadata": {},
   "outputs": [],
   "source": []
  },
  {
   "cell_type": "code",
   "execution_count": null,
   "id": "919d1ca1",
   "metadata": {},
   "outputs": [],
   "source": []
  },
  {
   "cell_type": "markdown",
   "id": "abc83ce7",
   "metadata": {},
   "source": [
    "# Data Visualization\n",
    "\n",
    "In this section, visualize import relationships in the data set.\n",
    "\n",
    "## Univariate Analysis\n",
    "\n",
    "Create charts where you plot only one variable (column) at a time. \n",
    "\n",
    "You can use simple charts like histograms and boxplots.\n",
    "\n",
    "> For example, use a histogram to plot an age distribution column (if you have one).\n",
    "\n",
    "> **Make sure to put an explanation or interpretation of the chart in a markdown cell after the chart**"
   ]
  },
  {
   "cell_type": "code",
   "execution_count": null,
   "id": "4752556f",
   "metadata": {},
   "outputs": [],
   "source": [
    "#univariate analysis cells\n"
   ]
  },
  {
   "cell_type": "code",
   "execution_count": null,
   "id": "04218ad1",
   "metadata": {},
   "outputs": [],
   "source": [
    "#univariate analysis cells\n"
   ]
  },
  {
   "cell_type": "code",
   "execution_count": null,
   "id": "b5d7c781",
   "metadata": {},
   "outputs": [],
   "source": [
    "#univariate analysis cells\n"
   ]
  },
  {
   "cell_type": "markdown",
   "id": "e37369fa",
   "metadata": {},
   "source": [
    "## Bivariate Analysis\n",
    "\n",
    "Create charts where you plot only two variables at a time on a chart. \n",
    "\n",
    "You can use visuals like bar charts, boxplots, scatter plots and so on.\n",
    "\n",
    "> You can plot variables like age against number of purchases, etc\n",
    "\n",
    "> **Make sure to put an explanation or interpretation of the chart in a markdown cell after the chart**"
   ]
  },
  {
   "cell_type": "code",
   "execution_count": null,
   "id": "61273006",
   "metadata": {},
   "outputs": [],
   "source": [
    "#bivariate analysis cells\n"
   ]
  },
  {
   "cell_type": "code",
   "execution_count": null,
   "id": "b3a6e5a1",
   "metadata": {},
   "outputs": [],
   "source": [
    "#bivariate analysis cells\n"
   ]
  },
  {
   "cell_type": "code",
   "execution_count": null,
   "id": "0e22408b",
   "metadata": {},
   "outputs": [],
   "source": [
    "#bivariate analysis cells\n"
   ]
  },
  {
   "cell_type": "markdown",
   "id": "9429b113",
   "metadata": {},
   "source": [
    "## Multivariate Analysis\n",
    "\n",
    "Create charts where you plot more than two variables at a time on a chart. \n",
    "\n",
    "You can use visuals like bar charts, scatter plots and so on.\n",
    "\n",
    "> Explore how to use the `hue` parameter in `seaborn` chart types\n",
    "\n",
    "> **Make sure to put an explanation or interpretation of the chart in a markdown cell after the chart**"
   ]
  },
  {
   "cell_type": "code",
   "execution_count": null,
   "id": "47bfdea6",
   "metadata": {},
   "outputs": [],
   "source": [
    "#multivariate analysis cells\n"
   ]
  },
  {
   "cell_type": "code",
   "execution_count": null,
   "id": "10e02d75",
   "metadata": {},
   "outputs": [],
   "source": [
    "#multivariate analysis cells\n"
   ]
  },
  {
   "cell_type": "code",
   "execution_count": null,
   "id": "3be8d0a6",
   "metadata": {},
   "outputs": [],
   "source": [
    "#multivariate analysis cells\n"
   ]
  },
  {
   "cell_type": "markdown",
   "id": "d84168b0",
   "metadata": {},
   "source": [
    "# Summary\n",
    "\n",
    "In this markdown cell, summarize your list of findings.\n",
    "\n",
    "1. \n",
    "2. \n",
    "3. \n",
    "4. "
   ]
  },
  {
   "cell_type": "code",
   "execution_count": null,
   "id": "0cd1fdaa",
   "metadata": {},
   "outputs": [],
   "source": []
  }
 ],
 "metadata": {
  "kernelspec": {
   "display_name": "Python 3 (ipykernel)",
   "language": "python",
   "name": "python3"
  },
  "language_info": {
   "codemirror_mode": {
    "name": "ipython",
    "version": 3
   },
   "file_extension": ".py",
   "mimetype": "text/x-python",
   "name": "python",
   "nbconvert_exporter": "python",
   "pygments_lexer": "ipython3",
   "version": "3.9.7"
  }
 },
 "nbformat": 4,
 "nbformat_minor": 5
}
