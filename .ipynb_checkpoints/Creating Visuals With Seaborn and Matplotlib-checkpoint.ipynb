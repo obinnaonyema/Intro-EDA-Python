{
 "cells": [
  {
   "cell_type": "markdown",
   "id": "a08518a5",
   "metadata": {},
   "source": [
    "# Creating Visuals With Seaborn and Matplotlib\n",
    "\n",
    "In this notebook, we will create simple visuals with `seaborn` and `matplotlib`"
   ]
  },
  {
   "cell_type": "code",
   "execution_count": null,
   "id": "a798f9e6",
   "metadata": {},
   "outputs": [],
   "source": [
    "#data analysis libraries\n",
    "import pandas as pd\n",
    "import numpy as np\n",
    "\n",
    "#visualization libraries\n",
    "import seaborn as sns\n",
    "import matplotlib.pyplot as plt"
   ]
  },
  {
   "cell_type": "code",
   "execution_count": null,
   "id": "627dad07",
   "metadata": {},
   "outputs": [],
   "source": [
    "#create a sample list of data points\n",
    "sample_1 = np.array([x**3 for x in range(-10,10,1)])\n",
    "print(sample_1)"
   ]
  },
  {
   "cell_type": "markdown",
   "id": "71471fc8",
   "metadata": {},
   "source": [
    "## Line Plot"
   ]
  },
  {
   "cell_type": "code",
   "execution_count": null,
   "id": "19d0496d",
   "metadata": {},
   "outputs": [],
   "source": [
    "#create a line plot\n",
    "plt.plot(sample_1)\n",
    "\n",
    "#set title for the chart\n",
    "plt.title('A Simple Line Plot')"
   ]
  },
  {
   "attachments": {
    "image.png": {
     "image/png": "[encoded data removed]"
    }
   },
   "cell_type": "markdown",
   "id": "13fea527",
   "metadata": {},
   "source": [
    "## Box Plot\n",
    "\n",
    "The image below explains the various parts of a boxplot\n",
    "![image.png](attachment:image.png)"
   ]
  },
  {
   "cell_type": "code",
   "execution_count": null,
   "id": "88ad2ad5",
   "metadata": {},
   "outputs": [],
   "source": [
    "#create a box plot using the values in sample_1 as the y axis\n",
    "sns.boxplot(y=sample_1)"
   ]
  },
  {
   "cell_type": "markdown",
   "id": "37d6df60",
   "metadata": {},
   "source": []
  },
  {
   "cell_type": "code",
   "execution_count": null,
   "id": "3d8bd8de",
   "metadata": {
    "scrolled": true
   },
   "outputs": [],
   "source": [
    "#create a box plot using the values in sample_1 as the x axis\n",
    "sns.boxplot(x=sample_1)"
   ]
  },
  {
   "cell_type": "markdown",
   "id": "8a60e57f",
   "metadata": {},
   "source": [
    "## Histogram"
   ]
  },
  {
   "cell_type": "code",
   "execution_count": null,
   "id": "aa141bd6",
   "metadata": {},
   "outputs": [],
   "source": [
    "#create a random age distribution using numpy's random module\n",
    "age_distribution = np.random.randint(60,size=(1,20))[0]\n",
    "print(f'The list of rages in the range is: {age_distribution}')"
   ]
  },
  {
   "cell_type": "code",
   "execution_count": null,
   "id": "722834c9",
   "metadata": {},
   "outputs": [],
   "source": [
    "#plot the list of ages\n",
    "plt.hist(age_distribution)\n",
    "\n",
    "#set title and labels for x and y axis\n",
    "plt.title('Age Distribution')\n",
    "plt.xlabel('Age')\n",
    "plt.ylabel('Frequency')"
   ]
  },
  {
   "cell_type": "markdown",
   "id": "9271dfc9",
   "metadata": {},
   "source": [
    "## Pie Chart"
   ]
  },
  {
   "cell_type": "code",
   "execution_count": null,
   "id": "517f9a71",
   "metadata": {},
   "outputs": [],
   "source": [
    "#create sample data\n",
    "categories = ['Fish','Meat','Eggs','Bread','Vegetables']\n",
    "prices = [4000,8000,2000,1000,1500]\n",
    "\n",
    "#plot the pie chart\n",
    "plt.pie(x=prices,labels = categories)\n",
    "plt.show()"
   ]
  },
  {
   "cell_type": "code",
   "execution_count": null,
   "id": "c40e716b",
   "metadata": {},
   "outputs": [],
   "source": [
    "#plot pie chart showing percentage contribution of each category\n",
    "plt.pie(x=prices,labels = categories,autopct='%.2f')\n",
    "\n",
    "#set chart title\n",
    "plt.title('Pie Chart with Percentage Displayed')\n",
    "\n",
    "\n",
    "plt.show()"
   ]
  },
  {
   "cell_type": "markdown",
   "id": "d8ed71b4",
   "metadata": {},
   "source": [
    "## Bar Chart\n",
    "\n",
    "Using the food prices data above, we'll create a bar chart"
   ]
  },
  {
   "cell_type": "code",
   "execution_count": null,
   "id": "5c7452b9",
   "metadata": {},
   "outputs": [],
   "source": [
    "#create sample data\n",
    "categories = ['Fish','Meat','Eggs','Bread','Vegetables']\n",
    "prices = [4000,8000,2000,1000,1500]\n",
    "\n",
    "#plot the pie chart\n",
    "plt.bar(x=categories,height = prices)\n",
    "\n",
    "#specify titles for x and y axis as well as the entire chart\n",
    "plt.xlabel('Food Items')\n",
    "plt.ylabel('Prices')\n",
    "plt.title('Cost of Food Items')\n",
    "\n",
    "\n",
    "plt.show()"
   ]
  },
  {
   "cell_type": "markdown",
   "id": "46fbac2c",
   "metadata": {},
   "source": [
    "# Let's create charts using data in a pandas dataframe\n",
    "\n",
    "`seaborn` has sample data sets from which we will create a pandas dataframe for the next few steps in this notebook. We can access these datasets by using the `load_dataset` method in seaborn."
   ]
  },
  {
   "cell_type": "code",
   "execution_count": null,
   "id": "b8543a7b",
   "metadata": {},
   "outputs": [],
   "source": [
    "#create a dataframe from the taxis dataset in seaborn\n",
    "df_taxis = sns.load_dataset('taxis')\n",
    "df_taxis.head()"
   ]
  },
  {
   "cell_type": "code",
   "execution_count": null,
   "id": "44b9788e",
   "metadata": {
    "scrolled": true
   },
   "outputs": [],
   "source": [
    "#create a histogram with the passengers column\n",
    "plt.hist(df_taxis.passengers)\n",
    "\n",
    "plt.title('Passenger distribution per trip')\n",
    "\n",
    "plt.ylabel('Frequency')\n",
    "plt.xlabel('Number of Passengers')"
   ]
  },
  {
   "cell_type": "markdown",
   "id": "ff7f6c04",
   "metadata": {},
   "source": [
    "Most rides have only 1 passenger, however it is possible to have a ride with up to 6 passengers, or as little as no passenger.\n",
    "\n",
    "Why would there be a ride with no passenger? Delivery? What other options are there?"
   ]
  },
  {
   "cell_type": "code",
   "execution_count": null,
   "id": "5b7520cf",
   "metadata": {},
   "outputs": [],
   "source": [
    "#create a bar plot to compare how much is paid in total by each payment method\n",
    "\n",
    "#one way is to first create a series that contains the total sum paid grouped by payment method\n",
    "payment_sums = df_taxis.groupby('payment').total.sum()\n",
    "print(payment_sums)"
   ]
  },
  {
   "cell_type": "code",
   "execution_count": null,
   "id": "e30c9bdb",
   "metadata": {},
   "outputs": [],
   "source": [
    "#plot the bar chart\n",
    "plt.bar(x=payment_sums.index,height=payment_sums)\n",
    "\n",
    "plt.title('Total Amount Paid Per Payment Method')\n",
    "plt.ylabel('Total ($)')\n"
   ]
  },
  {
   "cell_type": "code",
   "execution_count": null,
   "id": "7c759a5f",
   "metadata": {},
   "outputs": [],
   "source": [
    "#plot payment sums with a pie chart\n",
    "\n",
    "plt.pie(x=payment_sums,labels=payment_sums.index,autopct='%.2f')\n",
    "\n",
    "plt.title('Total Amount Paid Per Payment Method')\n",
    "\n",
    "plt.show()"
   ]
  },
  {
   "cell_type": "markdown",
   "id": "8e7b74e6",
   "metadata": {},
   "source": [
    "Credit cards make up 77.55% of all payments"
   ]
  },
  {
   "cell_type": "code",
   "execution_count": null,
   "id": "742a5fc5",
   "metadata": {},
   "outputs": [],
   "source": [
    "#compare distance by fare paid\n",
    "plt.scatter(x=df_taxis.distance, y=df_taxis.fare)\n",
    "\n",
    "plt.title('Distance vs Fare')\n",
    "plt.xlabel('Distance')\n",
    "plt.ylabel('Fare')"
   ]
  },
  {
   "cell_type": "markdown",
   "id": "bae2101c",
   "metadata": {},
   "source": [
    "It's safe to say that in general, longer distances attract higher fares."
   ]
  },
  {
   "cell_type": "code",
   "execution_count": null,
   "id": "4fe9b7d8",
   "metadata": {},
   "outputs": [],
   "source": []
  }
 ],
 "metadata": {
  "kernelspec": {
   "display_name": "Python 3 (ipykernel)",
   "language": "python",
   "name": "python3"
  },
  "language_info": {
   "codemirror_mode": {
    "name": "ipython",
    "version": 3
   },
   "file_extension": ".py",
   "mimetype": "text/x-python",
   "name": "python",
   "nbconvert_exporter": "python",
   "pygments_lexer": "ipython3",
   "version": "3.9.12"
  }
 },
 "nbformat": 4,
 "nbformat_minor": 5
}
