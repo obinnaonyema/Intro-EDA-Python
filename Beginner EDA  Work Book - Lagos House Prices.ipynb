{
 "cells": [
  {
   "cell_type": "markdown",
   "id": "65a43d68",
   "metadata": {},
   "source": [
    "# Basic EDA on Lagos House Prices Data Set"
   ]
  },
  {
   "cell_type": "markdown",
   "id": "da468144",
   "metadata": {},
   "source": [
    "The dataset contains 5336 records of rental properties around 7 districts in lagos. The data was sourced from a Nigerian real estate company website.\n",
    "\n",
    "Follow the steps provided to explore the data"
   ]
  },
  {
   "cell_type": "code",
   "execution_count": 2,
   "id": "c7d9874e",
   "metadata": {},
   "outputs": [],
   "source": [
    "#import pandas\n",
    "import pandas as pd"
   ]
  },
  {
   "cell_type": "markdown",
   "id": "94a3c52b",
   "metadata": {},
   "source": [
    "Load the dataset and save it in a dataframe called `lagos_houses`.\n",
    "\n",
    "```\n",
    "lagos_houses = pd.read_csv('path_to_file\\\\filename.csv')\n",
    "```\n",
    "\n",
    "If your file is located in the same folder as this notebook you are working with, your code will simply look like this:\n",
    "\n",
    "```\n",
    "lagos_houses = pd.read_csv('filename.csv')\n",
    "```"
   ]
  },
  {
   "cell_type": "code",
   "execution_count": 4,
   "id": "4eda5893",
   "metadata": {},
   "outputs": [],
   "source": [
    "#load data file\n",
    "lagos_houses = pd.read_csv(r'lagos_house_prices_raw.csv')"
   ]
  },
  {
   "cell_type": "markdown",
   "id": "06b9ae31",
   "metadata": {},
   "source": [
    "use the head() method to view the first few rows of the data in `lagos_houses`"
   ]
  },
  {
   "cell_type": "code",
   "execution_count": null,
   "id": "62aac1fc",
   "metadata": {},
   "outputs": [],
   "source": [
    "#use the head() method to view the first few rows of the data in lagos_houses\n",
    "lagos_houses.head()"
   ]
  },
  {
   "cell_type": "markdown",
   "id": "eea293f1",
   "metadata": {},
   "source": [
    "use the tail() method to view the last few rows of the data in `lagos_houses`"
   ]
  },
  {
   "cell_type": "code",
   "execution_count": null,
   "id": "20c4812d",
   "metadata": {},
   "outputs": [],
   "source": [
    "#your code here\n"
   ]
  },
  {
   "cell_type": "markdown",
   "id": "113822b3",
   "metadata": {},
   "source": [
    "Check if there is missing data in the data set.\n",
    "\n",
    "`dataframe.isna().sum()`"
   ]
  },
  {
   "cell_type": "code",
   "execution_count": null,
   "id": "1be25625",
   "metadata": {},
   "outputs": [],
   "source": [
    "#your code here\n"
   ]
  },
  {
   "cell_type": "markdown",
   "id": "80e05424",
   "metadata": {},
   "source": [
    "Use info() method to view datatypes and null counts"
   ]
  },
  {
   "cell_type": "code",
   "execution_count": null,
   "id": "75d03c5e",
   "metadata": {},
   "outputs": [],
   "source": [
    "#Use info() method to view datatypes and null counts\n",
    "lagos_houses.info()"
   ]
  },
  {
   "attachments": {
    "image.png": {
     "image/png": "[encoded data removed]"
    }
   },
   "cell_type": "markdown",
   "id": "c90adcc1",
   "metadata": {},
   "source": [
    "How many listings are there per location?\n",
    "\n",
    "On the location column, use the method `value_counts()` to aggregate the count of listings per location.\n",
    "\n",
    "Your code will look like this:\n",
    "```\n",
    "dataframe.column.value_counts()\n",
    "```\n",
    "\n",
    "Your result will look like this:\n",
    "\n",
    "![image.png](attachment:image.png)\n",
    "\n",
    "> **Make sure to edit the code to refer to your own variable names and column names**"
   ]
  },
  {
   "cell_type": "code",
   "execution_count": null,
   "id": "68b92264",
   "metadata": {},
   "outputs": [],
   "source": [
    "#how many listings per location\n",
    "#your code here\n"
   ]
  },
  {
   "attachments": {
    "image.png": {
     "image/png": "[encoded data removed]"
    }
   },
   "cell_type": "markdown",
   "id": "b79c9ee8",
   "metadata": {},
   "source": [
    "Use a bar plot to represent the count of listings per location.\n",
    "\n",
    "Add `.plot.bar()` after your value_counts() code. Your code will look like this:\n",
    "    \n",
    "```\n",
    "dataframe.column.value_counts().plot.bar()\n",
    "```\n",
    "\n",
    "Your bar chart will look like this:\n",
    "\n",
    "![image.png](attachment:image.png)"
   ]
  },
  {
   "cell_type": "code",
   "execution_count": 7,
   "id": "d81d8753",
   "metadata": {},
   "outputs": [],
   "source": [
    "#plot location counts\n",
    "#your code here:\n"
   ]
  },
  {
   "cell_type": "markdown",
   "id": "2b06967c",
   "metadata": {},
   "source": [
    "We can create summary statistics per location. At a glance we can see:\n",
    "\n",
    "* counts\n",
    "* mean\n",
    "* minimum value\n",
    "* standard deviation\n",
    "* 25th percentile\n",
    "* median (50th percentile)\n",
    "* 75th percentile\n",
    "* maximum value\n",
    "\n",
    "The `describe()` method is used to view summary statistics. Run the code cell below to see it"
   ]
  },
  {
   "cell_type": "code",
   "execution_count": null,
   "id": "01a5a9cc",
   "metadata": {},
   "outputs": [],
   "source": [
    "#summary statistics per location\n",
    "lagos_houses.groupby('location').price.describe()"
   ]
  },
  {
   "cell_type": "markdown",
   "id": "cfe1326a",
   "metadata": {},
   "source": [
    "Are your numbers showing in scientific notation and you don't like it? :) \n",
    "\n",
    "add `.astype(int)` after `describe()` to have it show integers in full form instead.\n",
    "\n",
    "Rerun the cell after you've done this and check the difference."
   ]
  },
  {
   "cell_type": "markdown",
   "id": "cec52fe0",
   "metadata": {},
   "source": [
    "Now, let's create a few pretty visuals with the **seaborn** and **matplotlib** libraries"
   ]
  },
  {
   "cell_type": "code",
   "execution_count": null,
   "id": "7aaea778",
   "metadata": {},
   "outputs": [],
   "source": [
    "#import both visualizations packages\n",
    "import seaborn as sns\n",
    "import matplotlib.pyplot as plt\n"
   ]
  },
  {
   "attachments": {
    "image.png": {
     "image/png": "[encoded data removed]"
    }
   },
   "cell_type": "markdown",
   "id": "8d0db61d",
   "metadata": {},
   "source": [
    "Let's create a boxplot. Remember to use documentation to view parameters you can pass into any function you are calling.\n",
    "\n",
    "For instance, if you use **SHIFT+TAB** to pop out documentation for the boxplot, you'll have something that looks like this:\n",
    "\n",
    "![image.png](attachment:image.png)\n",
    "\n",
    "Notice the parameters `x`, `y` and `data`.\n",
    "\n",
    "* Assign your dataframe 'lagos_houses' to the `data` parameter\n",
    "* then assign 'location' to the `x` parameter \n",
    "* Assign 'price' to the `y` parameter\n",
    "\n",
    "Your code should look like this\n",
    "\n",
    "`sns.boxplot(x=column_for_x, y=column_for_y, data=dataframe_name)`"
   ]
  },
  {
   "cell_type": "code",
   "execution_count": null,
   "id": "19ef1577",
   "metadata": {
    "scrolled": false
   },
   "outputs": [],
   "source": [
    "#view distribution of prices by location\n",
    "#your code here\n",
    "\n",
    "\n",
    "plt.show()"
   ]
  },
  {
   "cell_type": "markdown",
   "id": "55da8af9",
   "metadata": {},
   "source": [
    "* What location has the most expensive houses?\n",
    "* What location has the least expensive houses?"
   ]
  },
  {
   "cell_type": "code",
   "execution_count": null,
   "id": "a82bc1e7",
   "metadata": {},
   "outputs": [],
   "source": [
    "#Your answers here\n",
    "\n",
    "#1. \n",
    "#2."
   ]
  },
  {
   "cell_type": "code",
   "execution_count": null,
   "id": "e9dbfca4",
   "metadata": {},
   "outputs": [],
   "source": [
    "# what can we get from looking at a pairplot\n",
    "sns.pairplot(lagos_houses)"
   ]
  },
  {
   "cell_type": "markdown",
   "id": "d1a84814",
   "metadata": {},
   "source": [
    "### Let's make it a bit complex\n",
    "\n",
    "The cells below contain visualization code with more complexity. For learning purposes, I want you to see a few more possibilities and notice the kinds of questions you can use these charts to answer."
   ]
  },
  {
   "cell_type": "code",
   "execution_count": null,
   "id": "2a1cd9d8",
   "metadata": {},
   "outputs": [],
   "source": [
    "#create a pivot comparing prices of different property types at various locations\n",
    "#use the unstack() method after a groupby()\n",
    "pivot = lagos_houses.groupby(['location','Property_Type']).price.mean().astype(int).unstack('Property_Type')\n",
    "#display the pivot\n",
    "pivot"
   ]
  },
  {
   "cell_type": "code",
   "execution_count": null,
   "id": "f7d8ee86",
   "metadata": {},
   "outputs": [],
   "source": [
    "#plot the pivot table\n",
    "\n",
    "pivot.plot.bar(figsize=(15,5))#we use figsize parameter to set the height and width of the chart\n",
    "plt.ticklabel_format(style='plain',axis='y') #write out the prices on y axis in full not scientific notation\n",
    "\n",
    "plt.show()"
   ]
  },
  {
   "cell_type": "code",
   "execution_count": null,
   "id": "6298bb58",
   "metadata": {},
   "outputs": [],
   "source": [
    "fig, ax = plt.subplots(7,figsize=(8,20)) #set up multiple plots on the same canvas\n",
    "\n",
    "\n",
    "ax[0] = sns.boxplot(y='Property_Type',x='price',data=lagos_houses[lagos_houses.location=='yaba'], ax=ax[0])\n",
    "ax[0].ticklabel_format(style='plain',axis='x') #write out numbers in full instead of scientific notation\n",
    "ax[0].set_title('Yaba')\n",
    "\n",
    "ax[1] = sns.boxplot(y='Property_Type',x='price',data=lagos_houses[lagos_houses.location=='ajah'], ax=ax[1])\n",
    "ax[1].set_title('Ajah')\n",
    "\n",
    "ax[2] = sns.boxplot(y='Property_Type',x='price',data=lagos_houses[lagos_houses.location=='surulere'], ax=ax[2])\n",
    "ax[2].set_title('Surulere')\n",
    "\n",
    "ax[3] = sns.boxplot(y='Property_Type',x='price',data=lagos_houses[lagos_houses.location=='gbagada'], ax=ax[3])\n",
    "ax[3].set_title('Gbagada')\n",
    "\n",
    "ax[4] = sns.boxplot(y='Property_Type',x='price',data=lagos_houses[lagos_houses.location=='ikeja'], ax=ax[4])\n",
    "ax[4].set_title('Ikeja')\n",
    "\n",
    "ax[5] = sns.boxplot(y='Property_Type',x='price',data=lagos_houses[lagos_houses.location=='lekki phase 1'], ax=ax[5])\n",
    "ax[5].set_title('Lekki Phase 1')\n",
    "\n",
    "ax[6] = sns.boxplot(y='Property_Type',x='price',data=lagos_houses[lagos_houses.location=='ikorodu'], ax=ax[6])\n",
    "ax[6].set_title('Ikorodu')\n",
    "\n",
    "plt.tight_layout() #prevent overlapping charts"
   ]
  },
  {
   "cell_type": "markdown",
   "id": "b8fce900",
   "metadata": {},
   "source": [
    "### Can you keep going?"
   ]
  },
  {
   "cell_type": "code",
   "execution_count": null,
   "id": "669a9480",
   "metadata": {},
   "outputs": [],
   "source": []
  }
 ],
 "metadata": {
  "kernelspec": {
   "display_name": "Python 3 (ipykernel)",
   "language": "python",
   "name": "python3"
  },
  "language_info": {
   "codemirror_mode": {
    "name": "ipython",
    "version": 3
   },
   "file_extension": ".py",
   "mimetype": "text/x-python",
   "name": "python",
   "nbconvert_exporter": "python",
   "pygments_lexer": "ipython3",
   "version": "3.9.12"
  }
 },
 "nbformat": 4,
 "nbformat_minor": 5
}
